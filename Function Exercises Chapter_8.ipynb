{
 "cells": [
  {
   "cell_type": "code",
   "execution_count": null,
   "id": "c9373dcc",
   "metadata": {},
   "outputs": [],
   "source": [
    "#8 - 1\n",
    "\n",
    "\n",
    "def display_message():\n",
    "    '''Display a custom message'''\n",
    "    print('I am learning how functions work in Python in this exciting chapter of this most helpful book')\n",
    "\n",
    "display_message()\n"
   ]
  },
  {
   "cell_type": "code",
   "execution_count": null,
   "id": "375bb906",
   "metadata": {},
   "outputs": [],
   "source": [
    "#8 - 2\n",
    "def favorite_book(title):\n",
    "    '''Describe favourite book'''\n",
    "    print(f'One of the most impactful books I have read in recent years is {title}')\n",
    "favorite_book('Sapiens')"
   ]
  },
  {
   "cell_type": "code",
   "execution_count": null,
   "id": "1de3577a",
   "metadata": {},
   "outputs": [],
   "source": [
    "#8 - 3\n",
    "\n",
    "def make_shirt(size,message):\n",
    "\n",
    "    print(f'{size} shirt, {message}')\n",
    "\n",
    "make_shirt('Medium','Go get it man')\n",
    "make_shirt(size='Medium',message='Go get it man')\n",
    "\n"
   ]
  },
  {
   "cell_type": "code",
   "execution_count": null,
   "id": "a4e134d2",
   "metadata": {},
   "outputs": [],
   "source": [
    "#8 - 4\n",
    "\n",
    "def make_shirt_v2(size='large',message='I love Python'):\n",
    "    '''Summarising shirt details'''\n",
    "    print(f'{size} shirt, {message}')\n",
    "\n",
    "make_shirt_v2('large')\n",
    "make_shirt_v2('medium')\n",
    "make_shirt_v2('small','Coding rocks')\n"
   ]
  },
  {
   "cell_type": "code",
   "execution_count": null,
   "id": "c21fbc8b",
   "metadata": {},
   "outputs": [],
   "source": [
    "#8 - 5\n",
    "\n",
    "def describe_city(city,country='Nigeria'):\n",
    "    '''Describe a city'''\n",
    "    print(f'{city} is an important city in {country}')\n",
    "describe_city('Gombe')\n",
    "describe_city('Katina')\n",
    "describe_city('Paris','France')"
   ]
  },
  {
   "cell_type": "code",
   "execution_count": null,
   "id": "d588ce04",
   "metadata": {},
   "outputs": [],
   "source": [
    "#8 - 6\n",
    "\n",
    "def city_country(city,country):\n",
    "    '''Returns the formatted name of a city and its country'''\n",
    "    full = f'{city}, {country}'\n",
    "    return full.title()\n",
    "\n",
    "kt = city_country('katsina','nigeria')\n",
    "print(kt)\n",
    "par = city_country('paris','france')\n",
    "print(par)\n",
    "la = city_country('los angeles','USA')\n",
    "print(la)"
   ]
  },
  {
   "cell_type": "code",
   "execution_count": null,
   "id": "9ebfaa8a",
   "metadata": {},
   "outputs": [],
   "source": [
    "#8 - 7\n",
    "def make_album(artist_name,album_title):\n",
    "    '''Returns a dictionary of music album details'''\n",
    "    music_album = {'artist':artist_name,'album_title':album_title}\n",
    "    return music_album\n",
    "a = make_album('Michael','Thriller')\n",
    "b = make_album('Rihanna','Diamonds')\n",
    "c = make_album('Justin Bieber','Getout')\n",
    "print(a,b,c,)\n",
    "\n",
    "    \n",
    "def make_album_v2(artist_name,album_title,song_num=None):\n",
    "    '''Returns a dictionary of music album details'''\n",
    "    music_album = {'artist':artist_name,'album_title':album_title}\n",
    "    if song_num:\n",
    "        music_album['Number of songs'] = song_num\n",
    "    return music_album\n",
    "\n",
    "d = make_album_v2('Lukman','Luqman',1)\n",
    "print(d)\n",
    "e = make_album_v2('Aminu','Soyayya')  # not adding the optional argument\n",
    "print(e)"
   ]
  },
  {
   "cell_type": "code",
   "execution_count": null,
   "id": "8518a4c8",
   "metadata": {},
   "outputs": [],
   "source": [
    "#8 - 8\n",
    "\n",
    "while True:\n",
    "    print('\\nPlease enter the details of the album')\n",
    "    print('enter \"q\" at any time to quit')\n",
    "    album_artist = input('\\nEnter the name of the artist: ')\n",
    "    if album_artist == 'q':\n",
    "        break\n",
    "    album_title = input('Enter the title of the album: ')\n",
    "    if album_title == 'q':\n",
    "        break\n",
    "\n",
    "    album = make_album(album_artist,album_title)\n",
    "    print(f'\\nHere is the album: {album}')\n"
   ]
  },
  {
   "cell_type": "code",
   "execution_count": null,
   "id": "1205d3bb",
   "metadata": {},
   "outputs": [],
   "source": [
    "#8 - 9\n",
    "\n",
    "messages = ['Enjoying Python','Coding is fun','Super happy','Addicted to it in a good way']\n",
    "def show_messages(list):\n",
    "    '''Prints the messages contained in a list of messages passed to it'''\n",
    "    for item in list:\n",
    "        print(item)\n",
    "show_messages(messages)\n",
    "\n"
   ]
  },
  {
   "cell_type": "code",
   "execution_count": null,
   "id": "f92e0114",
   "metadata": {},
   "outputs": [],
   "source": [
    "#8 - 10\n",
    "def send_messages(message_list,sent_messages):\n",
    "    '''Moves each message in the message_list to sent_messages list after printing'''\n",
    "    while message_list:\n",
    "        sent_message = message_list.pop()\n",
    "        print(f'Sending message: {sent_message}')\n",
    "        sent_messages.append(sent_message)\n",
    "\n",
    "messages = ['Enjoying Python','Coding is fun','Super happy','Addicted to it in a good way']\n",
    "sent = []\n",
    "send_messages(messages,sent)\n",
    "\n",
    "print(f'initial: {messages},final: {sent}')\n",
    "messages # empty\n"
   ]
  },
  {
   "cell_type": "code",
   "execution_count": null,
   "id": "7bac74ec",
   "metadata": {},
   "outputs": [],
   "source": [
    "#8 - 11\n",
    "messages = ['Enjoying Python','Coding is fun','Super happy','Addicted to it in a good way']\n",
    "sent = []\n",
    "\n",
    "send_messages(messages[:],sent)\n",
    "messages # not empty\n",
    "\n",
    "# miscellaneous block bonus : Practicing recursion\n",
    "def factorial(x):\n",
    "    \"\"\"This is a recursive function\n",
    "    to find the factorial of an integer\"\"\"\n",
    "\n",
    "    if x == 1:\n",
    "        return 1\n",
    "    else:\n",
    "        return (x * factorial(x-1))\n",
    "\n",
    "\n",
    "num = 3\n",
    "print(\"The factorial of\", num, \"is\", factorial(num))"
   ]
  },
  {
   "cell_type": "code",
   "execution_count": null,
   "id": "8655d80e",
   "metadata": {},
   "outputs": [],
   "source": [
    "# 8 - 12\n",
    "def make_sandwich(*items):\n",
    "    '''Print a summary of the contents of ordered sandwich'''\n",
    "    print(f'\\nSandwich will be made containing the following: ')\n",
    "    for item in items:\n",
    "        print(f'-{item}')\n",
    "make_sandwich('apple','banana','pizza','guava','orange')\n",
    "make_sandwich('gon','kwon')\n"
   ]
  },
  {
   "cell_type": "code",
   "execution_count": null,
   "id": "bb9619f8",
   "metadata": {},
   "outputs": [],
   "source": [
    "# 8 - 13\n",
    "def build_profile(first, last, **user_info):\n",
    "    \"\"\"Build a dictionary containing everything we know about a user.\"\"\"\n",
    "    user_info['first_name'] = first\n",
    "    user_info['last_name'] = last\n",
    "    return user_info\n",
    "\n",
    "build_profile('Lukman','Aliyu',age=28,language='Hausa',country='Nigeria')\n"
   ]
  },
  {
   "cell_type": "code",
   "execution_count": null,
   "id": "f7a809a0",
   "metadata": {},
   "outputs": [],
   "source": [
    "# 8 - 14\n",
    "def make_car(manufacturer,model_name,**car_info):\n",
    "    '''Gives information about a car'''\n",
    "    car_info['manufacturer'] = manufacturer\n",
    "    car_info['model_name'] = model_name \n",
    "    return car_info\n",
    "\n",
    "make_car('honda','accord',year=86,gear='6-bg')\n"
   ]
  },
  {
   "cell_type": "code",
   "execution_count": null,
   "id": "b4aeb6f6",
   "metadata": {},
   "outputs": [],
   "source": []
  },
  {
   "cell_type": "code",
   "execution_count": null,
   "id": "3cbe1d8c",
   "metadata": {},
   "outputs": [],
   "source": []
  },
  {
   "cell_type": "code",
   "execution_count": null,
   "id": "d99f7da4",
   "metadata": {},
   "outputs": [],
   "source": []
  }
 ],
 "metadata": {
  "kernelspec": {
   "display_name": "Python 3 (ipykernel)",
   "language": "python",
   "name": "python3"
  },
  "language_info": {
   "codemirror_mode": {
    "name": "ipython",
    "version": 3
   },
   "file_extension": ".py",
   "mimetype": "text/x-python",
   "name": "python",
   "nbconvert_exporter": "python",
   "pygments_lexer": "ipython3",
   "version": "3.9.12"
  }
 },
 "nbformat": 4,
 "nbformat_minor": 5
}
